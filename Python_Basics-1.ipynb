{
 "cells": [
  {
   "cell_type": "markdown",
   "metadata": {},
   "source": [
    "## Python Basics"
   ]
  },
  {
   "cell_type": "markdown",
   "metadata": {},
   "source": [
    "### Basic Maths Operation"
   ]
  },
  {
   "cell_type": "code",
   "execution_count": 2,
   "metadata": {},
   "outputs": [
    {
     "data": {
      "text/plain": [
       "3"
      ]
     },
     "execution_count": 2,
     "metadata": {},
     "output_type": "execute_result"
    }
   ],
   "source": [
    "1+2"
   ]
  },
  {
   "cell_type": "code",
   "execution_count": 5,
   "metadata": {},
   "outputs": [
    {
     "data": {
      "text/plain": [
       "0"
      ]
     },
     "execution_count": 5,
     "metadata": {},
     "output_type": "execute_result"
    }
   ],
   "source": [
    "#Modulus - gives remainder\n",
    "\n",
    "4%2"
   ]
  },
  {
   "cell_type": "code",
   "execution_count": 13,
   "metadata": {},
   "outputs": [
    {
     "name": "stdout",
     "output_type": "stream",
     "text": [
      "2\n",
      "<class 'int'> \n",
      "\n",
      "2.5\n",
      "<class 'float'>\n"
     ]
    }
   ],
   "source": [
    "# // Gives floor value of 5/2 - 2.5(floor value - 2)\n",
    "\n",
    "print(5//2)\n",
    "print(type(5//2),'\\n')\n",
    "print(5/2)\n",
    "print(type(5/2))"
   ]
  },
  {
   "cell_type": "code",
   "execution_count": 30,
   "metadata": {},
   "outputs": [
    {
     "name": "stdout",
     "output_type": "stream",
     "text": [
      "Sum is: 30 The type is: <class 'int'>\n"
     ]
    }
   ],
   "source": [
    "#Simple mathematical calc done on variables\n",
    "\n",
    "a = 10\n",
    "b = 20\n",
    "c = a+b\n",
    "print(\"Sum is:\",c,\"The type is:\", type(c))"
   ]
  },
  {
   "cell_type": "code",
   "execution_count": 36,
   "metadata": {},
   "outputs": [
    {
     "name": "stdout",
     "output_type": "stream",
     "text": [
      "True\n",
      "False\n",
      "True\n",
      "False\n",
      "<class 'bool'>\n"
     ]
    }
   ],
   "source": [
    "## Working with Boolean\n",
    "\n",
    "print(True or False)\n",
    "print(True and False)\n",
    "print(True and True)\n",
    "print(False or False)\n",
    "print(type(True or False))"
   ]
  },
  {
   "cell_type": "code",
   "execution_count": 47,
   "metadata": {},
   "outputs": [
    {
     "name": "stdout",
     "output_type": "stream",
     "text": [
      "True\n",
      "True\n",
      "True\n"
     ]
    }
   ],
   "source": [
    "# Bit wise Operator\n",
    "\n",
    "print(True | False)\n",
    "a = 10\n",
    "b = 15\n",
    "\n",
    "#Checking for Boolean output when using '|'--> 'or' Bit Wise Operator\n",
    "print((a+b<30) | (a-b>0))\n",
    "\n",
    "print(a+b<30 or a-b>0)"
   ]
  },
  {
   "cell_type": "markdown",
   "metadata": {},
   "source": [
    "### Strings"
   ]
  },
  {
   "cell_type": "code",
   "execution_count": 50,
   "metadata": {},
   "outputs": [
    {
     "name": "stdout",
     "output_type": "stream",
     "text": [
      "<class 'str'>\n",
      "<class 'str'>\n"
     ]
    },
    {
     "data": {
      "text/plain": [
       "str"
      ]
     },
     "execution_count": 50,
     "metadata": {},
     "output_type": "execute_result"
    }
   ],
   "source": [
    "print(type('Ajay'))\n",
    "print(type('A'))\n",
    "type('Ajay likes Football')"
   ]
  },
  {
   "cell_type": "code",
   "execution_count": 51,
   "metadata": {},
   "outputs": [],
   "source": [
    "str1 = \"Ajay\"\n",
    "str2 = \"Likes Football\""
   ]
  },
  {
   "cell_type": "code",
   "execution_count": 52,
   "metadata": {},
   "outputs": [
    {
     "name": "stdout",
     "output_type": "stream",
     "text": [
      "Ajay Likes Football\n"
     ]
    }
   ],
   "source": [
    "print(str1,str2)"
   ]
  },
  {
   "cell_type": "code",
   "execution_count": 54,
   "metadata": {},
   "outputs": [
    {
     "name": "stdout",
     "output_type": "stream",
     "text": [
      "AjayLikes Football\n",
      "Ajay Likes Football\n"
     ]
    }
   ],
   "source": [
    "#Concatenates two strings\n",
    "print(str1+str2)\n",
    "print(str1+\" \"+str2)"
   ]
  },
  {
   "cell_type": "code",
   "execution_count": 56,
   "metadata": {},
   "outputs": [
    {
     "name": "stdout",
     "output_type": "stream",
     "text": [
      "enter your name:Ajay\n",
      "Ajay\n",
      "Enter no 1:1\n",
      "Enter no 2:2\n",
      "The output is: 12\n"
     ]
    }
   ],
   "source": [
    "# Provide input\n",
    "\n",
    "name = input(\"enter your name:\")\n",
    "print(name)\n",
    "\n",
    "### Add 2 nos - when we only provide input it takes value as strings only\n",
    "a = input(\"Enter no 1:\")\n",
    "b = input(\"Enter no 2:\")\n",
    "c=a+b\n",
    "print(\"The output is:\", c)\n"
   ]
  },
  {
   "cell_type": "code",
   "execution_count": 58,
   "metadata": {},
   "outputs": [
    {
     "name": "stdout",
     "output_type": "stream",
     "text": [
      "Enter no 1:23.5\n",
      "Enter no 2:32.5\n",
      "The output is: 56.0\n"
     ]
    }
   ],
   "source": [
    "### Add 2 nos - when we only provide input it takes value as strings only\n",
    "a = float(input(\"Enter no 1:\"))\n",
    "b = float(input(\"Enter no 2:\"))\n",
    "c=a+b\n",
    "print(\"The output is:\", c)\n"
   ]
  },
  {
   "cell_type": "code",
   "execution_count": 62,
   "metadata": {},
   "outputs": [
    {
     "name": "stdout",
     "output_type": "stream",
     "text": [
      "Enter your first name:Ajay\n",
      "Enter your last name:Anand\n",
      "Enter your age:28\n",
      "Welcome Ajay Anand of age 28\n",
      "My first name is Ajay and last name is Anand of age 28\n",
      "My first name is Ajay and last name is Anand of age 28\n"
     ]
    }
   ],
   "source": [
    "### String Formatting\n",
    "first_name = input(\"Enter your first name:\")\n",
    "last_name = input(\"Enter your last name:\")\n",
    "age = int(input(\"Enter your age:\"))\n",
    "\n",
    "print(\"Welcome\",first_name,last_name,\"of age\",age)\n",
    "print(\"My first name is {} and last name is {} of age {}\".format(first_name,last_name,age))\n",
    "print(\"My first name is {first} and last name is {last} of age {curr_age}\".format(first = first_name,last = last_name,\n",
    "                                                                                  curr_age = age))"
   ]
  },
  {
   "cell_type": "code",
   "execution_count": 67,
   "metadata": {},
   "outputs": [
    {
     "name": "stdout",
     "output_type": "stream",
     "text": [
      "Ajay1\n",
      "Ajay1\n",
      "3\n"
     ]
    }
   ],
   "source": [
    "### Strong typing\n",
    "print('Ajay'+ '1')\n",
    "print('Ajay'+str(1))\n",
    "print(1+int('2'))\n"
   ]
  },
  {
   "cell_type": "code",
   "execution_count": 76,
   "metadata": {},
   "outputs": [
    {
     "name": "stdout",
     "output_type": "stream",
     "text": [
      "The difference is 4\n",
      "The diff is greater than 3\n"
     ]
    }
   ],
   "source": [
    "# If and elif function\n",
    "\n",
    "a = 10\n",
    "b = 6\n",
    "c = a-b\n",
    "\n",
    "print(\"The difference is {}\".format(c))\n",
    "\n",
    "if c>3:\n",
    "    print(\"The diff is greater than 3\")\n",
    "elif c == 3:\n",
    "    print(\"The diff is equal to 3\")\n",
    "else:\n",
    "    print(\"The diff is less than 3\")"
   ]
  },
  {
   "cell_type": "code",
   "execution_count": null,
   "metadata": {},
   "outputs": [],
   "source": []
  }
 ],
 "metadata": {
  "kernelspec": {
   "display_name": "Python 3",
   "language": "python",
   "name": "python3"
  },
  "language_info": {
   "codemirror_mode": {
    "name": "ipython",
    "version": 3
   },
   "file_extension": ".py",
   "mimetype": "text/x-python",
   "name": "python",
   "nbconvert_exporter": "python",
   "pygments_lexer": "ipython3",
   "version": "3.8.3"
  }
 },
 "nbformat": 4,
 "nbformat_minor": 4
}
